{
  "nbformat": 4,
  "nbformat_minor": 0,
  "metadata": {
    "colab": {
      "name": "Danielle Jones_Project 2_Part2.ipynb",
      "provenance": [],
      "collapsed_sections": [],
      "authorship_tag": "ABX9TyM2w+J45rET2fyzVl4Zr5uP",
      "include_colab_link": true
    },
    "kernelspec": {
      "name": "python3",
      "display_name": "Python 3"
    },
    "language_info": {
      "name": "python"
    }
  },
  "cells": [
    {
      "cell_type": "markdown",
      "metadata": {
        "id": "view-in-github",
        "colab_type": "text"
      },
      "source": [
        "<a href=\"https://colab.research.google.com/github/DanielleMichelleCodes/Movie-Revenue-Predictions/blob/main/Danielle_Jones_Project_2_Part2.ipynb\" target=\"_parent\"><img src=\"https://colab.research.google.com/assets/colab-badge.svg\" alt=\"Open In Colab\"/></a>"
      ]
    },
    {
      "cell_type": "code",
      "execution_count": 59,
      "metadata": {
        "colab": {
          "base_uri": "https://localhost:8080/"
        },
        "id": "9E_C5MXZKf8n",
        "outputId": "69372868-721b-4b67-c6df-b7154fd6f15f"
      },
      "outputs": [
        {
          "output_type": "stream",
          "name": "stdout",
          "text": [
            "Drive already mounted at /content/drive; to attempt to forcibly remount, call drive.mount(\"/content/drive\", force_remount=True).\n"
          ]
        }
      ],
      "source": [
        "from google.colab import drive\n",
        "drive.mount('/content/drive')"
      ]
    },
    {
      "cell_type": "code",
      "source": [
        "import matplotlib.pyplot as plt\n",
        "import seaborn as sns\n",
        "import pandas as pd\n",
        "import numpy as np"
      ],
      "metadata": {
        "id": "A6ycL7DHL4Uw"
      },
      "execution_count": 60,
      "outputs": []
    },
    {
      "cell_type": "code",
      "source": [
        "df = pd.read_csv('/content/drive/MyDrive/Datafiles/imdb(MOVIES).csv')\n",
        "df.head()"
      ],
      "metadata": {
        "colab": {
          "base_uri": "https://localhost:8080/",
          "height": 721
        },
        "id": "DHH0n4rQL-qf",
        "outputId": "5b0a9e74-df4a-4622-cfd7-dfb4176163e4"
      },
      "execution_count": 61,
      "outputs": [
        {
          "output_type": "execute_result",
          "data": {
            "text/plain": [
              "   ranking of movie               movie name    Year certificate  runtime  \\\n",
              "0                 1                  Jai Bhim  -2021       TV-MA  164 min   \n",
              "1                 2  The Shawshank Redemption  -1994           R  142 min   \n",
              "2                 3             The Godfather  -1972           R  175 min   \n",
              "3                 4           The Dark Knight  -2008       PG-13  152 min   \n",
              "4                 5    The Godfather: Part II  -1974           R  202 min   \n",
              "\n",
              "                  genre  RATING  \\\n",
              "0          Crime, Drama     9.4   \n",
              "1                 Drama     9.3   \n",
              "2          Crime, Drama     9.2   \n",
              "3  Action, Crime, Drama     9.0   \n",
              "4          Crime, Drama     9.0   \n",
              "\n",
              "                                  DETAIL ABOUT MOVIE             DIRECTOR   \\\n",
              "0  When a tribal man is arrested for a case of al...         T.J. Gnanavel   \n",
              "1  Two imprisoned men bond over a number of years...        Frank Darabont   \n",
              "2  The Godfather follows Vito Corleone, Don of th...  Francis Ford Coppola   \n",
              "3  When the menace known as the Joker wreaks havo...     Christopher Nolan   \n",
              "4  The early life and career of Vito Corleone in ...  Francis Ford Coppola   \n",
              "\n",
              "          ACTOR 1         ACTOR 2        ACTOR 3          ACTOR 4    votes  \\\n",
              "0          Suriya   Lijo Mol Jose     Manikandan  Rajisha Vijayan   163431   \n",
              "1     Tim Robbins  Morgan Freeman     Bob Gunton   William Sadler  2515762   \n",
              "2   Marlon Brando       Al Pacino     James Caan     Diane Keaton  1732749   \n",
              "3  Christian Bale    Heath Ledger  Aaron Eckhart    Michael Caine  2466041   \n",
              "4       Al Pacino  Robert De Niro  Robert Duvall     Diane Keaton  1202401   \n",
              "\n",
              "   metascore GROSS COLLECTION  \n",
              "0        NaN              NaN  \n",
              "1       80.0          $28.34M  \n",
              "2      100.0         $134.97M  \n",
              "3       84.0         $534.86M  \n",
              "4       90.0          $57.30M  "
            ],
            "text/html": [
              "\n",
              "  <div id=\"df-5e974e90-d88e-440b-809f-9f6ab09c32ef\">\n",
              "    <div class=\"colab-df-container\">\n",
              "      <div>\n",
              "<style scoped>\n",
              "    .dataframe tbody tr th:only-of-type {\n",
              "        vertical-align: middle;\n",
              "    }\n",
              "\n",
              "    .dataframe tbody tr th {\n",
              "        vertical-align: top;\n",
              "    }\n",
              "\n",
              "    .dataframe thead th {\n",
              "        text-align: right;\n",
              "    }\n",
              "</style>\n",
              "<table border=\"1\" class=\"dataframe\">\n",
              "  <thead>\n",
              "    <tr style=\"text-align: right;\">\n",
              "      <th></th>\n",
              "      <th>ranking of movie</th>\n",
              "      <th>movie name</th>\n",
              "      <th>Year</th>\n",
              "      <th>certificate</th>\n",
              "      <th>runtime</th>\n",
              "      <th>genre</th>\n",
              "      <th>RATING</th>\n",
              "      <th>DETAIL ABOUT MOVIE</th>\n",
              "      <th>DIRECTOR</th>\n",
              "      <th>ACTOR 1</th>\n",
              "      <th>ACTOR 2</th>\n",
              "      <th>ACTOR 3</th>\n",
              "      <th>ACTOR 4</th>\n",
              "      <th>votes</th>\n",
              "      <th>metascore</th>\n",
              "      <th>GROSS COLLECTION</th>\n",
              "    </tr>\n",
              "  </thead>\n",
              "  <tbody>\n",
              "    <tr>\n",
              "      <th>0</th>\n",
              "      <td>1</td>\n",
              "      <td>Jai Bhim</td>\n",
              "      <td>-2021</td>\n",
              "      <td>TV-MA</td>\n",
              "      <td>164 min</td>\n",
              "      <td>Crime, Drama</td>\n",
              "      <td>9.4</td>\n",
              "      <td>When a tribal man is arrested for a case of al...</td>\n",
              "      <td>T.J. Gnanavel</td>\n",
              "      <td>Suriya</td>\n",
              "      <td>Lijo Mol Jose</td>\n",
              "      <td>Manikandan</td>\n",
              "      <td>Rajisha Vijayan</td>\n",
              "      <td>163431</td>\n",
              "      <td>NaN</td>\n",
              "      <td>NaN</td>\n",
              "    </tr>\n",
              "    <tr>\n",
              "      <th>1</th>\n",
              "      <td>2</td>\n",
              "      <td>The Shawshank Redemption</td>\n",
              "      <td>-1994</td>\n",
              "      <td>R</td>\n",
              "      <td>142 min</td>\n",
              "      <td>Drama</td>\n",
              "      <td>9.3</td>\n",
              "      <td>Two imprisoned men bond over a number of years...</td>\n",
              "      <td>Frank Darabont</td>\n",
              "      <td>Tim Robbins</td>\n",
              "      <td>Morgan Freeman</td>\n",
              "      <td>Bob Gunton</td>\n",
              "      <td>William Sadler</td>\n",
              "      <td>2515762</td>\n",
              "      <td>80.0</td>\n",
              "      <td>$28.34M</td>\n",
              "    </tr>\n",
              "    <tr>\n",
              "      <th>2</th>\n",
              "      <td>3</td>\n",
              "      <td>The Godfather</td>\n",
              "      <td>-1972</td>\n",
              "      <td>R</td>\n",
              "      <td>175 min</td>\n",
              "      <td>Crime, Drama</td>\n",
              "      <td>9.2</td>\n",
              "      <td>The Godfather follows Vito Corleone, Don of th...</td>\n",
              "      <td>Francis Ford Coppola</td>\n",
              "      <td>Marlon Brando</td>\n",
              "      <td>Al Pacino</td>\n",
              "      <td>James Caan</td>\n",
              "      <td>Diane Keaton</td>\n",
              "      <td>1732749</td>\n",
              "      <td>100.0</td>\n",
              "      <td>$134.97M</td>\n",
              "    </tr>\n",
              "    <tr>\n",
              "      <th>3</th>\n",
              "      <td>4</td>\n",
              "      <td>The Dark Knight</td>\n",
              "      <td>-2008</td>\n",
              "      <td>PG-13</td>\n",
              "      <td>152 min</td>\n",
              "      <td>Action, Crime, Drama</td>\n",
              "      <td>9.0</td>\n",
              "      <td>When the menace known as the Joker wreaks havo...</td>\n",
              "      <td>Christopher Nolan</td>\n",
              "      <td>Christian Bale</td>\n",
              "      <td>Heath Ledger</td>\n",
              "      <td>Aaron Eckhart</td>\n",
              "      <td>Michael Caine</td>\n",
              "      <td>2466041</td>\n",
              "      <td>84.0</td>\n",
              "      <td>$534.86M</td>\n",
              "    </tr>\n",
              "    <tr>\n",
              "      <th>4</th>\n",
              "      <td>5</td>\n",
              "      <td>The Godfather: Part II</td>\n",
              "      <td>-1974</td>\n",
              "      <td>R</td>\n",
              "      <td>202 min</td>\n",
              "      <td>Crime, Drama</td>\n",
              "      <td>9.0</td>\n",
              "      <td>The early life and career of Vito Corleone in ...</td>\n",
              "      <td>Francis Ford Coppola</td>\n",
              "      <td>Al Pacino</td>\n",
              "      <td>Robert De Niro</td>\n",
              "      <td>Robert Duvall</td>\n",
              "      <td>Diane Keaton</td>\n",
              "      <td>1202401</td>\n",
              "      <td>90.0</td>\n",
              "      <td>$57.30M</td>\n",
              "    </tr>\n",
              "  </tbody>\n",
              "</table>\n",
              "</div>\n",
              "      <button class=\"colab-df-convert\" onclick=\"convertToInteractive('df-5e974e90-d88e-440b-809f-9f6ab09c32ef')\"\n",
              "              title=\"Convert this dataframe to an interactive table.\"\n",
              "              style=\"display:none;\">\n",
              "        \n",
              "  <svg xmlns=\"http://www.w3.org/2000/svg\" height=\"24px\"viewBox=\"0 0 24 24\"\n",
              "       width=\"24px\">\n",
              "    <path d=\"M0 0h24v24H0V0z\" fill=\"none\"/>\n",
              "    <path d=\"M18.56 5.44l.94 2.06.94-2.06 2.06-.94-2.06-.94-.94-2.06-.94 2.06-2.06.94zm-11 1L8.5 8.5l.94-2.06 2.06-.94-2.06-.94L8.5 2.5l-.94 2.06-2.06.94zm10 10l.94 2.06.94-2.06 2.06-.94-2.06-.94-.94-2.06-.94 2.06-2.06.94z\"/><path d=\"M17.41 7.96l-1.37-1.37c-.4-.4-.92-.59-1.43-.59-.52 0-1.04.2-1.43.59L10.3 9.45l-7.72 7.72c-.78.78-.78 2.05 0 2.83L4 21.41c.39.39.9.59 1.41.59.51 0 1.02-.2 1.41-.59l7.78-7.78 2.81-2.81c.8-.78.8-2.07 0-2.86zM5.41 20L4 18.59l7.72-7.72 1.47 1.35L5.41 20z\"/>\n",
              "  </svg>\n",
              "      </button>\n",
              "      \n",
              "  <style>\n",
              "    .colab-df-container {\n",
              "      display:flex;\n",
              "      flex-wrap:wrap;\n",
              "      gap: 12px;\n",
              "    }\n",
              "\n",
              "    .colab-df-convert {\n",
              "      background-color: #E8F0FE;\n",
              "      border: none;\n",
              "      border-radius: 50%;\n",
              "      cursor: pointer;\n",
              "      display: none;\n",
              "      fill: #1967D2;\n",
              "      height: 32px;\n",
              "      padding: 0 0 0 0;\n",
              "      width: 32px;\n",
              "    }\n",
              "\n",
              "    .colab-df-convert:hover {\n",
              "      background-color: #E2EBFA;\n",
              "      box-shadow: 0px 1px 2px rgba(60, 64, 67, 0.3), 0px 1px 3px 1px rgba(60, 64, 67, 0.15);\n",
              "      fill: #174EA6;\n",
              "    }\n",
              "\n",
              "    [theme=dark] .colab-df-convert {\n",
              "      background-color: #3B4455;\n",
              "      fill: #D2E3FC;\n",
              "    }\n",
              "\n",
              "    [theme=dark] .colab-df-convert:hover {\n",
              "      background-color: #434B5C;\n",
              "      box-shadow: 0px 1px 3px 1px rgba(0, 0, 0, 0.15);\n",
              "      filter: drop-shadow(0px 1px 2px rgba(0, 0, 0, 0.3));\n",
              "      fill: #FFFFFF;\n",
              "    }\n",
              "  </style>\n",
              "\n",
              "      <script>\n",
              "        const buttonEl =\n",
              "          document.querySelector('#df-5e974e90-d88e-440b-809f-9f6ab09c32ef button.colab-df-convert');\n",
              "        buttonEl.style.display =\n",
              "          google.colab.kernel.accessAllowed ? 'block' : 'none';\n",
              "\n",
              "        async function convertToInteractive(key) {\n",
              "          const element = document.querySelector('#df-5e974e90-d88e-440b-809f-9f6ab09c32ef');\n",
              "          const dataTable =\n",
              "            await google.colab.kernel.invokeFunction('convertToInteractive',\n",
              "                                                     [key], {});\n",
              "          if (!dataTable) return;\n",
              "\n",
              "          const docLinkHtml = 'Like what you see? Visit the ' +\n",
              "            '<a target=\"_blank\" href=https://colab.research.google.com/notebooks/data_table.ipynb>data table notebook</a>'\n",
              "            + ' to learn more about interactive tables.';\n",
              "          element.innerHTML = '';\n",
              "          dataTable['output_type'] = 'display_data';\n",
              "          await google.colab.output.renderOutput(dataTable, element);\n",
              "          const docLink = document.createElement('div');\n",
              "          docLink.innerHTML = docLinkHtml;\n",
              "          element.appendChild(docLink);\n",
              "        }\n",
              "      </script>\n",
              "    </div>\n",
              "  </div>\n",
              "  "
            ]
          },
          "metadata": {},
          "execution_count": 61
        }
      ]
    },
    {
      "cell_type": "code",
      "source": [
        "df.info()"
      ],
      "metadata": {
        "colab": {
          "base_uri": "https://localhost:8080/"
        },
        "id": "9AMSojWGMOpS",
        "outputId": "f5f62e4c-9cf2-4785-faae-cb35ca61a43b"
      },
      "execution_count": 62,
      "outputs": [
        {
          "output_type": "stream",
          "name": "stdout",
          "text": [
            "<class 'pandas.core.frame.DataFrame'>\n",
            "RangeIndex: 250 entries, 0 to 249\n",
            "Data columns (total 16 columns):\n",
            " #   Column              Non-Null Count  Dtype  \n",
            "---  ------              --------------  -----  \n",
            " 0   ranking of movie    250 non-null    int64  \n",
            " 1   movie name          250 non-null    object \n",
            " 2   Year                250 non-null    object \n",
            " 3   certificate         250 non-null    object \n",
            " 4   runtime             250 non-null    object \n",
            " 5   genre               250 non-null    object \n",
            " 6   RATING              250 non-null    float64\n",
            " 7   DETAIL ABOUT MOVIE  250 non-null    object \n",
            " 8   DIRECTOR            250 non-null    object \n",
            " 9   ACTOR 1             250 non-null    object \n",
            " 10  ACTOR 2             250 non-null    object \n",
            " 11  ACTOR 3             250 non-null    object \n",
            " 12  ACTOR 4             250 non-null    object \n",
            " 13  votes               250 non-null    int64  \n",
            " 14  metascore           218 non-null    float64\n",
            " 15  GROSS COLLECTION    214 non-null    object \n",
            "dtypes: float64(2), int64(2), object(12)\n",
            "memory usage: 31.4+ KB\n"
          ]
        }
      ]
    },
    {
      "cell_type": "code",
      "source": [
        "#Checking for duplicates\n",
        "df.duplicated().sum()"
      ],
      "metadata": {
        "colab": {
          "base_uri": "https://localhost:8080/"
        },
        "id": "Z9ddx0nLMoq2",
        "outputId": "e9b2537a-1159-4504-ba6f-1e074b460c3d"
      },
      "execution_count": 63,
      "outputs": [
        {
          "output_type": "execute_result",
          "data": {
            "text/plain": [
              "0"
            ]
          },
          "metadata": {},
          "execution_count": 63
        }
      ]
    },
    {
      "cell_type": "markdown",
      "source": [
        "### Remove Unnecessary Columns\n",
        "\n",
        "The `Detail About Movie' is a summary about the movie content and isn't useful in this data set "
      ],
      "metadata": {
        "id": "ljpks9deM8wT"
      }
    },
    {
      "cell_type": "code",
      "source": [
        "df = df.drop(columns=['DETAIL ABOUT MOVIE', 'ACTOR 1', 'ACTOR 2', 'ACTOR 3', 'ACTOR 4'])\n",
        "df.head()"
      ],
      "metadata": {
        "colab": {
          "base_uri": "https://localhost:8080/",
          "height": 337
        },
        "id": "3lq29GudNdrJ",
        "outputId": "2f93a95f-19be-4552-de30-620e7b3bb4f9"
      },
      "execution_count": 64,
      "outputs": [
        {
          "output_type": "execute_result",
          "data": {
            "text/plain": [
              "   ranking of movie               movie name    Year certificate  runtime  \\\n",
              "0                 1                  Jai Bhim  -2021       TV-MA  164 min   \n",
              "1                 2  The Shawshank Redemption  -1994           R  142 min   \n",
              "2                 3             The Godfather  -1972           R  175 min   \n",
              "3                 4           The Dark Knight  -2008       PG-13  152 min   \n",
              "4                 5    The Godfather: Part II  -1974           R  202 min   \n",
              "\n",
              "                  genre  RATING             DIRECTOR     votes  metascore  \\\n",
              "0          Crime, Drama     9.4         T.J. Gnanavel   163431        NaN   \n",
              "1                 Drama     9.3        Frank Darabont  2515762       80.0   \n",
              "2          Crime, Drama     9.2  Francis Ford Coppola  1732749      100.0   \n",
              "3  Action, Crime, Drama     9.0     Christopher Nolan  2466041       84.0   \n",
              "4          Crime, Drama     9.0  Francis Ford Coppola  1202401       90.0   \n",
              "\n",
              "  GROSS COLLECTION  \n",
              "0              NaN  \n",
              "1          $28.34M  \n",
              "2         $134.97M  \n",
              "3         $534.86M  \n",
              "4          $57.30M  "
            ],
            "text/html": [
              "\n",
              "  <div id=\"df-78cc2454-a2e0-4d15-9054-0dccaac1976a\">\n",
              "    <div class=\"colab-df-container\">\n",
              "      <div>\n",
              "<style scoped>\n",
              "    .dataframe tbody tr th:only-of-type {\n",
              "        vertical-align: middle;\n",
              "    }\n",
              "\n",
              "    .dataframe tbody tr th {\n",
              "        vertical-align: top;\n",
              "    }\n",
              "\n",
              "    .dataframe thead th {\n",
              "        text-align: right;\n",
              "    }\n",
              "</style>\n",
              "<table border=\"1\" class=\"dataframe\">\n",
              "  <thead>\n",
              "    <tr style=\"text-align: right;\">\n",
              "      <th></th>\n",
              "      <th>ranking of movie</th>\n",
              "      <th>movie name</th>\n",
              "      <th>Year</th>\n",
              "      <th>certificate</th>\n",
              "      <th>runtime</th>\n",
              "      <th>genre</th>\n",
              "      <th>RATING</th>\n",
              "      <th>DIRECTOR</th>\n",
              "      <th>votes</th>\n",
              "      <th>metascore</th>\n",
              "      <th>GROSS COLLECTION</th>\n",
              "    </tr>\n",
              "  </thead>\n",
              "  <tbody>\n",
              "    <tr>\n",
              "      <th>0</th>\n",
              "      <td>1</td>\n",
              "      <td>Jai Bhim</td>\n",
              "      <td>-2021</td>\n",
              "      <td>TV-MA</td>\n",
              "      <td>164 min</td>\n",
              "      <td>Crime, Drama</td>\n",
              "      <td>9.4</td>\n",
              "      <td>T.J. Gnanavel</td>\n",
              "      <td>163431</td>\n",
              "      <td>NaN</td>\n",
              "      <td>NaN</td>\n",
              "    </tr>\n",
              "    <tr>\n",
              "      <th>1</th>\n",
              "      <td>2</td>\n",
              "      <td>The Shawshank Redemption</td>\n",
              "      <td>-1994</td>\n",
              "      <td>R</td>\n",
              "      <td>142 min</td>\n",
              "      <td>Drama</td>\n",
              "      <td>9.3</td>\n",
              "      <td>Frank Darabont</td>\n",
              "      <td>2515762</td>\n",
              "      <td>80.0</td>\n",
              "      <td>$28.34M</td>\n",
              "    </tr>\n",
              "    <tr>\n",
              "      <th>2</th>\n",
              "      <td>3</td>\n",
              "      <td>The Godfather</td>\n",
              "      <td>-1972</td>\n",
              "      <td>R</td>\n",
              "      <td>175 min</td>\n",
              "      <td>Crime, Drama</td>\n",
              "      <td>9.2</td>\n",
              "      <td>Francis Ford Coppola</td>\n",
              "      <td>1732749</td>\n",
              "      <td>100.0</td>\n",
              "      <td>$134.97M</td>\n",
              "    </tr>\n",
              "    <tr>\n",
              "      <th>3</th>\n",
              "      <td>4</td>\n",
              "      <td>The Dark Knight</td>\n",
              "      <td>-2008</td>\n",
              "      <td>PG-13</td>\n",
              "      <td>152 min</td>\n",
              "      <td>Action, Crime, Drama</td>\n",
              "      <td>9.0</td>\n",
              "      <td>Christopher Nolan</td>\n",
              "      <td>2466041</td>\n",
              "      <td>84.0</td>\n",
              "      <td>$534.86M</td>\n",
              "    </tr>\n",
              "    <tr>\n",
              "      <th>4</th>\n",
              "      <td>5</td>\n",
              "      <td>The Godfather: Part II</td>\n",
              "      <td>-1974</td>\n",
              "      <td>R</td>\n",
              "      <td>202 min</td>\n",
              "      <td>Crime, Drama</td>\n",
              "      <td>9.0</td>\n",
              "      <td>Francis Ford Coppola</td>\n",
              "      <td>1202401</td>\n",
              "      <td>90.0</td>\n",
              "      <td>$57.30M</td>\n",
              "    </tr>\n",
              "  </tbody>\n",
              "</table>\n",
              "</div>\n",
              "      <button class=\"colab-df-convert\" onclick=\"convertToInteractive('df-78cc2454-a2e0-4d15-9054-0dccaac1976a')\"\n",
              "              title=\"Convert this dataframe to an interactive table.\"\n",
              "              style=\"display:none;\">\n",
              "        \n",
              "  <svg xmlns=\"http://www.w3.org/2000/svg\" height=\"24px\"viewBox=\"0 0 24 24\"\n",
              "       width=\"24px\">\n",
              "    <path d=\"M0 0h24v24H0V0z\" fill=\"none\"/>\n",
              "    <path d=\"M18.56 5.44l.94 2.06.94-2.06 2.06-.94-2.06-.94-.94-2.06-.94 2.06-2.06.94zm-11 1L8.5 8.5l.94-2.06 2.06-.94-2.06-.94L8.5 2.5l-.94 2.06-2.06.94zm10 10l.94 2.06.94-2.06 2.06-.94-2.06-.94-.94-2.06-.94 2.06-2.06.94z\"/><path d=\"M17.41 7.96l-1.37-1.37c-.4-.4-.92-.59-1.43-.59-.52 0-1.04.2-1.43.59L10.3 9.45l-7.72 7.72c-.78.78-.78 2.05 0 2.83L4 21.41c.39.39.9.59 1.41.59.51 0 1.02-.2 1.41-.59l7.78-7.78 2.81-2.81c.8-.78.8-2.07 0-2.86zM5.41 20L4 18.59l7.72-7.72 1.47 1.35L5.41 20z\"/>\n",
              "  </svg>\n",
              "      </button>\n",
              "      \n",
              "  <style>\n",
              "    .colab-df-container {\n",
              "      display:flex;\n",
              "      flex-wrap:wrap;\n",
              "      gap: 12px;\n",
              "    }\n",
              "\n",
              "    .colab-df-convert {\n",
              "      background-color: #E8F0FE;\n",
              "      border: none;\n",
              "      border-radius: 50%;\n",
              "      cursor: pointer;\n",
              "      display: none;\n",
              "      fill: #1967D2;\n",
              "      height: 32px;\n",
              "      padding: 0 0 0 0;\n",
              "      width: 32px;\n",
              "    }\n",
              "\n",
              "    .colab-df-convert:hover {\n",
              "      background-color: #E2EBFA;\n",
              "      box-shadow: 0px 1px 2px rgba(60, 64, 67, 0.3), 0px 1px 3px 1px rgba(60, 64, 67, 0.15);\n",
              "      fill: #174EA6;\n",
              "    }\n",
              "\n",
              "    [theme=dark] .colab-df-convert {\n",
              "      background-color: #3B4455;\n",
              "      fill: #D2E3FC;\n",
              "    }\n",
              "\n",
              "    [theme=dark] .colab-df-convert:hover {\n",
              "      background-color: #434B5C;\n",
              "      box-shadow: 0px 1px 3px 1px rgba(0, 0, 0, 0.15);\n",
              "      filter: drop-shadow(0px 1px 2px rgba(0, 0, 0, 0.3));\n",
              "      fill: #FFFFFF;\n",
              "    }\n",
              "  </style>\n",
              "\n",
              "      <script>\n",
              "        const buttonEl =\n",
              "          document.querySelector('#df-78cc2454-a2e0-4d15-9054-0dccaac1976a button.colab-df-convert');\n",
              "        buttonEl.style.display =\n",
              "          google.colab.kernel.accessAllowed ? 'block' : 'none';\n",
              "\n",
              "        async function convertToInteractive(key) {\n",
              "          const element = document.querySelector('#df-78cc2454-a2e0-4d15-9054-0dccaac1976a');\n",
              "          const dataTable =\n",
              "            await google.colab.kernel.invokeFunction('convertToInteractive',\n",
              "                                                     [key], {});\n",
              "          if (!dataTable) return;\n",
              "\n",
              "          const docLinkHtml = 'Like what you see? Visit the ' +\n",
              "            '<a target=\"_blank\" href=https://colab.research.google.com/notebooks/data_table.ipynb>data table notebook</a>'\n",
              "            + ' to learn more about interactive tables.';\n",
              "          element.innerHTML = '';\n",
              "          dataTable['output_type'] = 'display_data';\n",
              "          await google.colab.output.renderOutput(dataTable, element);\n",
              "          const docLink = document.createElement('div');\n",
              "          docLink.innerHTML = docLinkHtml;\n",
              "          element.appendChild(docLink);\n",
              "        }\n",
              "      </script>\n",
              "    </div>\n",
              "  </div>\n",
              "  "
            ]
          },
          "metadata": {},
          "execution_count": 64
        }
      ]
    },
    {
      "cell_type": "markdown",
      "source": [
        "###Addressing missing values"
      ],
      "metadata": {
        "id": "Nr16T1zqOVeX"
      }
    },
    {
      "cell_type": "code",
      "source": [
        "df.isna().sum()"
      ],
      "metadata": {
        "colab": {
          "base_uri": "https://localhost:8080/"
        },
        "id": "aeGyYTmUNsnQ",
        "outputId": "9e2670f4-745e-4bfe-dcea-671a6492e858"
      },
      "execution_count": 65,
      "outputs": [
        {
          "output_type": "execute_result",
          "data": {
            "text/plain": [
              "ranking of movie     0\n",
              "movie name           0\n",
              "Year                 0\n",
              "certificate          0\n",
              "runtime              0\n",
              "genre                0\n",
              "RATING               0\n",
              "DIRECTOR             0\n",
              "votes                0\n",
              "metascore           32\n",
              "GROSS COLLECTION    36\n",
              "dtype: int64"
            ]
          },
          "metadata": {},
          "execution_count": 65
        }
      ]
    },
    {
      "cell_type": "code",
      "source": [
        "dtypes = df.dtypes\n",
        "str_cols = dtypes[dtypes=='object'].index\n",
        "str_cols"
      ],
      "metadata": {
        "colab": {
          "base_uri": "https://localhost:8080/"
        },
        "id": "ilwleq5yPGCV",
        "outputId": "b292cc27-d808-4693-9564-dc8b6da0e9e3"
      },
      "execution_count": 66,
      "outputs": [
        {
          "output_type": "execute_result",
          "data": {
            "text/plain": [
              "Index(['movie name ', 'Year', 'certificate', 'runtime', 'genre', 'DIRECTOR ',\n",
              "       'GROSS COLLECTION'],\n",
              "      dtype='object')"
            ]
          },
          "metadata": {},
          "execution_count": 66
        }
      ]
    },
    {
      "cell_type": "code",
      "source": [
        "from pandas.core.resample import f\n",
        "for col in str_cols:\n",
        "  print(f\"-Column= {col}\")\n",
        "  print(df[col].value_counts(dropna=False))\n",
        "  print('\\n\\n')"
      ],
      "metadata": {
        "colab": {
          "base_uri": "https://localhost:8080/"
        },
        "id": "ODvfYdWAPNVs",
        "outputId": "85bc20d0-83ce-476a-caa1-406c4e6ce4b7"
      },
      "execution_count": 67,
      "outputs": [
        {
          "output_type": "stream",
          "name": "stdout",
          "text": [
            "-Column= movie name \n",
            "Jai Bhim                                 1\n",
            "The Gold Rush                            1\n",
            "The Great Escape                         1\n",
            "To Kill a Mockingbird                    1\n",
            "Yojimbo                                  1\n",
            "                                        ..\n",
            "Eternal Sunshine of the Spotless Mind    1\n",
            "Amélie                                   1\n",
            "Requiem for a Dream                      1\n",
            "American Beauty                          1\n",
            "The General                              1\n",
            "Name: movie name , Length: 250, dtype: int64\n",
            "\n",
            "\n",
            "\n",
            "-Column= Year\n",
            "-1995    8\n",
            "-2019    7\n",
            "-1957    7\n",
            "-2004    6\n",
            "-2000    6\n",
            "        ..\n",
            "-1921    1\n",
            "-1927    1\n",
            "-1941    1\n",
            "-1944    1\n",
            "-1926    1\n",
            "Name: Year, Length: 90, dtype: int64\n",
            "\n",
            "\n",
            "\n",
            "-Column= certificate\n",
            "R            106\n",
            "PG            36\n",
            "PG-13         31\n",
            "Not Rated     30\n",
            "G             15\n",
            "Passed        15\n",
            "Approved      12\n",
            "TV-MA          2\n",
            "TV-14          1\n",
            "M              1\n",
            "GP             1\n",
            "Name: certificate, dtype: int64\n",
            "\n",
            "\n",
            "\n",
            "-Column= runtime\n",
            "130 min    9\n",
            "132 min    7\n",
            "129 min    6\n",
            "99 min     6\n",
            "98 min     6\n",
            "          ..\n",
            "321 min    1\n",
            "180 min    1\n",
            "158 min    1\n",
            "156 min    1\n",
            "67 min     1\n",
            "Name: runtime, Length: 102, dtype: int64\n",
            "\n",
            "\n",
            "\n",
            "-Column= genre\n",
            "Drama                        22\n",
            "Crime, Drama                 14\n",
            "Biography, Drama, History     9\n",
            "Drama, War                    8\n",
            "Crime, Drama, Mystery         8\n",
            "                             ..\n",
            "Animation, Drama              1\n",
            "Drama, Mystery, Romance       1\n",
            "Biography, Comedy, Crime      1\n",
            "Drama, Fantasy, War           1\n",
            "Action, Adventure, Comedy     1\n",
            "Name: genre, Length: 109, dtype: int64\n",
            "\n",
            "\n",
            "\n",
            "-Column= DIRECTOR \n",
            "Christopher Nolan     7\n",
            "Stanley Kubrick       7\n",
            "Akira Kurosawa        7\n",
            "Martin Scorsese       7\n",
            "Alfred Hitchcock      6\n",
            "                     ..\n",
            "Gus Van Sant          1\n",
            "Darren Aronofsky      1\n",
            "Jean-Pierre Jeunet    1\n",
            "Michel Gondry         1\n",
            "Clyde Bruckman        1\n",
            "Name: DIRECTOR , Length: 154, dtype: int64\n",
            "\n",
            "\n",
            "\n",
            "-Column= GROSS COLLECTION\n",
            "NaN         36\n",
            "$0.01M       3\n",
            "$4.36M       3\n",
            "$5.32M       2\n",
            "$9.60M       2\n",
            "            ..\n",
            "$7.10M       1\n",
            "$6.86M       1\n",
            "$120.54M     1\n",
            "$34.40M      1\n",
            "$1.03M       1\n",
            "Name: GROSS COLLECTION, Length: 205, dtype: int64\n",
            "\n",
            "\n",
            "\n"
          ]
        }
      ]
    },
    {
      "cell_type": "code",
      "source": [
        "df.describe()"
      ],
      "metadata": {
        "colab": {
          "base_uri": "https://localhost:8080/",
          "height": 300
        },
        "id": "DEOueAt3T3xO",
        "outputId": "2eff3da3-90fc-40d3-e17c-5b5b182d1398"
      },
      "execution_count": 68,
      "outputs": [
        {
          "output_type": "execute_result",
          "data": {
            "text/plain": [
              "       ranking of movie      RATING         votes   metascore\n",
              "count        250.000000  250.000000  2.500000e+02  218.000000\n",
              "mean         125.500000    8.308400  5.785299e+05   82.449541\n",
              "std           72.312977    0.234669  4.951304e+05   10.822392\n",
              "min            1.000000    8.100000  2.653800e+04   55.000000\n",
              "25%           63.250000    8.100000  1.688628e+05   75.000000\n",
              "50%          125.500000    8.200000  4.313355e+05   84.000000\n",
              "75%          187.750000    8.400000  8.854255e+05   90.000000\n",
              "max          250.000000    9.400000  2.515762e+06  100.000000"
            ],
            "text/html": [
              "\n",
              "  <div id=\"df-53a8531e-0190-42d8-a5f2-fbf28ef5fba4\">\n",
              "    <div class=\"colab-df-container\">\n",
              "      <div>\n",
              "<style scoped>\n",
              "    .dataframe tbody tr th:only-of-type {\n",
              "        vertical-align: middle;\n",
              "    }\n",
              "\n",
              "    .dataframe tbody tr th {\n",
              "        vertical-align: top;\n",
              "    }\n",
              "\n",
              "    .dataframe thead th {\n",
              "        text-align: right;\n",
              "    }\n",
              "</style>\n",
              "<table border=\"1\" class=\"dataframe\">\n",
              "  <thead>\n",
              "    <tr style=\"text-align: right;\">\n",
              "      <th></th>\n",
              "      <th>ranking of movie</th>\n",
              "      <th>RATING</th>\n",
              "      <th>votes</th>\n",
              "      <th>metascore</th>\n",
              "    </tr>\n",
              "  </thead>\n",
              "  <tbody>\n",
              "    <tr>\n",
              "      <th>count</th>\n",
              "      <td>250.000000</td>\n",
              "      <td>250.000000</td>\n",
              "      <td>2.500000e+02</td>\n",
              "      <td>218.000000</td>\n",
              "    </tr>\n",
              "    <tr>\n",
              "      <th>mean</th>\n",
              "      <td>125.500000</td>\n",
              "      <td>8.308400</td>\n",
              "      <td>5.785299e+05</td>\n",
              "      <td>82.449541</td>\n",
              "    </tr>\n",
              "    <tr>\n",
              "      <th>std</th>\n",
              "      <td>72.312977</td>\n",
              "      <td>0.234669</td>\n",
              "      <td>4.951304e+05</td>\n",
              "      <td>10.822392</td>\n",
              "    </tr>\n",
              "    <tr>\n",
              "      <th>min</th>\n",
              "      <td>1.000000</td>\n",
              "      <td>8.100000</td>\n",
              "      <td>2.653800e+04</td>\n",
              "      <td>55.000000</td>\n",
              "    </tr>\n",
              "    <tr>\n",
              "      <th>25%</th>\n",
              "      <td>63.250000</td>\n",
              "      <td>8.100000</td>\n",
              "      <td>1.688628e+05</td>\n",
              "      <td>75.000000</td>\n",
              "    </tr>\n",
              "    <tr>\n",
              "      <th>50%</th>\n",
              "      <td>125.500000</td>\n",
              "      <td>8.200000</td>\n",
              "      <td>4.313355e+05</td>\n",
              "      <td>84.000000</td>\n",
              "    </tr>\n",
              "    <tr>\n",
              "      <th>75%</th>\n",
              "      <td>187.750000</td>\n",
              "      <td>8.400000</td>\n",
              "      <td>8.854255e+05</td>\n",
              "      <td>90.000000</td>\n",
              "    </tr>\n",
              "    <tr>\n",
              "      <th>max</th>\n",
              "      <td>250.000000</td>\n",
              "      <td>9.400000</td>\n",
              "      <td>2.515762e+06</td>\n",
              "      <td>100.000000</td>\n",
              "    </tr>\n",
              "  </tbody>\n",
              "</table>\n",
              "</div>\n",
              "      <button class=\"colab-df-convert\" onclick=\"convertToInteractive('df-53a8531e-0190-42d8-a5f2-fbf28ef5fba4')\"\n",
              "              title=\"Convert this dataframe to an interactive table.\"\n",
              "              style=\"display:none;\">\n",
              "        \n",
              "  <svg xmlns=\"http://www.w3.org/2000/svg\" height=\"24px\"viewBox=\"0 0 24 24\"\n",
              "       width=\"24px\">\n",
              "    <path d=\"M0 0h24v24H0V0z\" fill=\"none\"/>\n",
              "    <path d=\"M18.56 5.44l.94 2.06.94-2.06 2.06-.94-2.06-.94-.94-2.06-.94 2.06-2.06.94zm-11 1L8.5 8.5l.94-2.06 2.06-.94-2.06-.94L8.5 2.5l-.94 2.06-2.06.94zm10 10l.94 2.06.94-2.06 2.06-.94-2.06-.94-.94-2.06-.94 2.06-2.06.94z\"/><path d=\"M17.41 7.96l-1.37-1.37c-.4-.4-.92-.59-1.43-.59-.52 0-1.04.2-1.43.59L10.3 9.45l-7.72 7.72c-.78.78-.78 2.05 0 2.83L4 21.41c.39.39.9.59 1.41.59.51 0 1.02-.2 1.41-.59l7.78-7.78 2.81-2.81c.8-.78.8-2.07 0-2.86zM5.41 20L4 18.59l7.72-7.72 1.47 1.35L5.41 20z\"/>\n",
              "  </svg>\n",
              "      </button>\n",
              "      \n",
              "  <style>\n",
              "    .colab-df-container {\n",
              "      display:flex;\n",
              "      flex-wrap:wrap;\n",
              "      gap: 12px;\n",
              "    }\n",
              "\n",
              "    .colab-df-convert {\n",
              "      background-color: #E8F0FE;\n",
              "      border: none;\n",
              "      border-radius: 50%;\n",
              "      cursor: pointer;\n",
              "      display: none;\n",
              "      fill: #1967D2;\n",
              "      height: 32px;\n",
              "      padding: 0 0 0 0;\n",
              "      width: 32px;\n",
              "    }\n",
              "\n",
              "    .colab-df-convert:hover {\n",
              "      background-color: #E2EBFA;\n",
              "      box-shadow: 0px 1px 2px rgba(60, 64, 67, 0.3), 0px 1px 3px 1px rgba(60, 64, 67, 0.15);\n",
              "      fill: #174EA6;\n",
              "    }\n",
              "\n",
              "    [theme=dark] .colab-df-convert {\n",
              "      background-color: #3B4455;\n",
              "      fill: #D2E3FC;\n",
              "    }\n",
              "\n",
              "    [theme=dark] .colab-df-convert:hover {\n",
              "      background-color: #434B5C;\n",
              "      box-shadow: 0px 1px 3px 1px rgba(0, 0, 0, 0.15);\n",
              "      filter: drop-shadow(0px 1px 2px rgba(0, 0, 0, 0.3));\n",
              "      fill: #FFFFFF;\n",
              "    }\n",
              "  </style>\n",
              "\n",
              "      <script>\n",
              "        const buttonEl =\n",
              "          document.querySelector('#df-53a8531e-0190-42d8-a5f2-fbf28ef5fba4 button.colab-df-convert');\n",
              "        buttonEl.style.display =\n",
              "          google.colab.kernel.accessAllowed ? 'block' : 'none';\n",
              "\n",
              "        async function convertToInteractive(key) {\n",
              "          const element = document.querySelector('#df-53a8531e-0190-42d8-a5f2-fbf28ef5fba4');\n",
              "          const dataTable =\n",
              "            await google.colab.kernel.invokeFunction('convertToInteractive',\n",
              "                                                     [key], {});\n",
              "          if (!dataTable) return;\n",
              "\n",
              "          const docLinkHtml = 'Like what you see? Visit the ' +\n",
              "            '<a target=\"_blank\" href=https://colab.research.google.com/notebooks/data_table.ipynb>data table notebook</a>'\n",
              "            + ' to learn more about interactive tables.';\n",
              "          element.innerHTML = '';\n",
              "          dataTable['output_type'] = 'display_data';\n",
              "          await google.colab.output.renderOutput(dataTable, element);\n",
              "          const docLink = document.createElement('div');\n",
              "          docLink.innerHTML = docLinkHtml;\n",
              "          element.appendChild(docLink);\n",
              "        }\n",
              "      </script>\n",
              "    </div>\n",
              "  </div>\n",
              "  "
            ]
          },
          "metadata": {},
          "execution_count": 68
        }
      ]
    },
    {
      "cell_type": "markdown",
      "source": [
        "Data looks good to move on"
      ],
      "metadata": {
        "id": "eTXRAj-tUAg8"
      }
    },
    {
      "cell_type": "markdown",
      "source": [
        "#Visualizations"
      ],
      "metadata": {
        "id": "aQJKIQ0lUFH3"
      }
    },
    {
      "cell_type": "code",
      "source": [
        "#Univariate\n",
        "sns.countplot(df['RATING'])"
      ],
      "metadata": {
        "colab": {
          "base_uri": "https://localhost:8080/",
          "height": 353
        },
        "id": "QBPo0jNyUKjj",
        "outputId": "8d6398b2-c4df-4c37-a301-0a2e041a99f1"
      },
      "execution_count": 69,
      "outputs": [
        {
          "output_type": "stream",
          "name": "stderr",
          "text": [
            "/usr/local/lib/python3.7/dist-packages/seaborn/_decorators.py:43: FutureWarning: Pass the following variable as a keyword arg: x. From version 0.12, the only valid positional argument will be `data`, and passing other arguments without an explicit keyword will result in an error or misinterpretation.\n",
            "  FutureWarning\n"
          ]
        },
        {
          "output_type": "execute_result",
          "data": {
            "text/plain": [
              "<matplotlib.axes._subplots.AxesSubplot at 0x7fca930ad710>"
            ]
          },
          "metadata": {},
          "execution_count": 69
        },
        {
          "output_type": "display_data",
          "data": {
            "text/plain": [
              "<Figure size 432x288 with 1 Axes>"
            ],
            "image/png": "[encoded data removed]"
          },
          "metadata": {
            "needs_background": "light"
          }
        }
      ]
    },
    {
      "cell_type": "code",
      "source": [
        "sns.countplot(df['certificate'])"
      ],
      "metadata": {
        "colab": {
          "base_uri": "https://localhost:8080/",
          "height": 351
        },
        "id": "4wxFCM_qaQRX",
        "outputId": "01b4dbd6-2503-4191-80d7-4086699ef0b1"
      },
      "execution_count": 70,
      "outputs": [
        {
          "output_type": "stream",
          "name": "stderr",
          "text": [
            "/usr/local/lib/python3.7/dist-packages/seaborn/_decorators.py:43: FutureWarning: Pass the following variable as a keyword arg: x. From version 0.12, the only valid positional argument will be `data`, and passing other arguments without an explicit keyword will result in an error or misinterpretation.\n",
            "  FutureWarning\n"
          ]
        },
        {
          "output_type": "execute_result",
          "data": {
            "text/plain": [
              "<matplotlib.axes._subplots.AxesSubplot at 0x7fca9302f290>"
            ]
          },
          "metadata": {},
          "execution_count": 70
        },
        {
          "output_type": "display_data",
          "data": {
            "text/plain": [
              "<Figure size 432x288 with 1 Axes>"
            ],
            "image/png": "[encoded data removed]"
          },
          "metadata": {
            "needs_background": "light"
          }
        }
      ]
    },
    {
      "cell_type": "code",
      "source": [
        "df.info()"
      ],
      "metadata": {
        "colab": {
          "base_uri": "https://localhost:8080/"
        },
        "id": "2ijua8Z6b76H",
        "outputId": "004aa5f7-d451-47ae-fa89-ca94af7b7e1c"
      },
      "execution_count": 71,
      "outputs": [
        {
          "output_type": "stream",
          "name": "stdout",
          "text": [
            "<class 'pandas.core.frame.DataFrame'>\n",
            "RangeIndex: 250 entries, 0 to 249\n",
            "Data columns (total 11 columns):\n",
            " #   Column            Non-Null Count  Dtype  \n",
            "---  ------            --------------  -----  \n",
            " 0   ranking of movie  250 non-null    int64  \n",
            " 1   movie name        250 non-null    object \n",
            " 2   Year              250 non-null    object \n",
            " 3   certificate       250 non-null    object \n",
            " 4   runtime           250 non-null    object \n",
            " 5   genre             250 non-null    object \n",
            " 6   RATING            250 non-null    float64\n",
            " 7   DIRECTOR          250 non-null    object \n",
            " 8   votes             250 non-null    int64  \n",
            " 9   metascore         218 non-null    float64\n",
            " 10  GROSS COLLECTION  214 non-null    object \n",
            "dtypes: float64(2), int64(2), object(7)\n",
            "memory usage: 21.6+ KB\n"
          ]
        }
      ]
    },
    {
      "cell_type": "code",
      "source": [
        "#Heatmap\n",
        "sns.heatmap(data=df.corr())"
      ],
      "metadata": {
        "colab": {
          "base_uri": "https://localhost:8080/",
          "height": 286
        },
        "id": "7PEN-Ry7YScM",
        "outputId": "ac2b9890-6a5a-4808-a969-c5db4f31f0ea"
      },
      "execution_count": 72,
      "outputs": [
        {
          "output_type": "execute_result",
          "data": {
            "text/plain": [
              "<matplotlib.axes._subplots.AxesSubplot at 0x7fca93368610>"
            ]
          },
          "metadata": {},
          "execution_count": 72
        },
        {
          "output_type": "display_data",
          "data": {
            "text/plain": [
              "<Figure size 432x288 with 2 Axes>"
            ],
            "image/png": "[encoded data removed]"
          },
          "metadata": {
            "needs_background": "light"
          }
        }
      ]
    }
  ]
}